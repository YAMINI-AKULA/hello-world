{
  "nbformat": 4,
  "nbformat_minor": 0,
  "metadata": {
    "colab": {
      "name": "list_tuple_dict.ipynb",
      "provenance": [],
      "collapsed_sections": [],
      "authorship_tag": "ABX9TyPJtvKKkkYrNTHCKVNYnH/Y",
      "include_colab_link": true
    },
    "kernelspec": {
      "name": "python3",
      "display_name": "Python 3"
    }
  },
  "cells": [
    {
      "cell_type": "markdown",
      "metadata": {
        "id": "view-in-github",
        "colab_type": "text"
      },
      "source": [
        "<a href=\"https://colab.research.google.com/github/YAMINI-AKULA/hello-world/blob/master/list_tuple_dict.ipynb\" target=\"_parent\"><img src=\"https://colab.research.google.com/assets/colab-badge.svg\" alt=\"Open In Colab\"/></a>"
      ]
    },
    {
      "cell_type": "code",
      "metadata": {
        "id": "8NTVgu2pmDZV",
        "colab_type": "code",
        "colab": {
          "base_uri": "https://localhost:8080/",
          "height": 401
        },
        "outputId": "5a2278b5-3bcb-4c84-c355-9aa177c39421"
      },
      "source": [
        "marks=[1,2,3,4,5,6,7,8,9,10]\n",
        "l1=['shoeb',4.0,3,[1,2]]\n",
        "l1[0]\n",
        "type(l1[2])\n",
        "print(l1[-1])\n",
        "len(l1)\n",
        "marks[0:6:2]\n",
        "marks.append(11)\n",
        "marks\n",
        "marks.append([12,13])\n",
        "marks.extend([15,16])\n",
        "marks.remove(1)\n",
        "marks.remove(marks[2])\n",
        "marks.pop()\n",
        "for marks in marks:\n",
        "  print(pow(marks,2))\n",
        "#identitiy operator\n",
        "#is #isnot-to check value is stored in same locatn or not\n",
        "a=[1,2,3]\n",
        "b=a\n",
        "c=[1,2,3]\n",
        "a is c\n",
        "a is b\n",
        "\n",
        "\n",
        "\n",
        "\n",
        "\n",
        "\n",
        "\n",
        "\n"
      ],
      "execution_count": 30,
      "outputs": [
        {
          "output_type": "stream",
          "text": [
            "[1, 2]\n",
            "4\n",
            "9\n",
            "25\n",
            "36\n",
            "49\n",
            "64\n",
            "81\n",
            "100\n",
            "121\n"
          ],
          "name": "stdout"
        },
        {
          "output_type": "error",
          "ename": "TypeError",
          "evalue": "ignored",
          "traceback": [
            "\u001b[0;31m---------------------------------------------------------------------------\u001b[0m",
            "\u001b[0;31mTypeError\u001b[0m                                 Traceback (most recent call last)",
            "\u001b[0;32m<ipython-input-30-73dd1720a251>\u001b[0m in \u001b[0;36m<module>\u001b[0;34m()\u001b[0m\n\u001b[1;32m     14\u001b[0m \u001b[0mmarks\u001b[0m\u001b[0;34m.\u001b[0m\u001b[0mpop\u001b[0m\u001b[0;34m(\u001b[0m\u001b[0;34m)\u001b[0m\u001b[0;34m\u001b[0m\u001b[0;34m\u001b[0m\u001b[0m\n\u001b[1;32m     15\u001b[0m \u001b[0;32mfor\u001b[0m \u001b[0mmarks\u001b[0m \u001b[0;32min\u001b[0m \u001b[0mmarks\u001b[0m\u001b[0;34m:\u001b[0m\u001b[0;34m\u001b[0m\u001b[0;34m\u001b[0m\u001b[0m\n\u001b[0;32m---> 16\u001b[0;31m   \u001b[0mprint\u001b[0m\u001b[0;34m(\u001b[0m\u001b[0mpow\u001b[0m\u001b[0;34m(\u001b[0m\u001b[0mmarks\u001b[0m\u001b[0;34m,\u001b[0m\u001b[0;36m2\u001b[0m\u001b[0;34m)\u001b[0m\u001b[0;34m)\u001b[0m\u001b[0;34m\u001b[0m\u001b[0;34m\u001b[0m\u001b[0m\n\u001b[0m\u001b[1;32m     17\u001b[0m \u001b[0;31m#identitiy operator\u001b[0m\u001b[0;34m\u001b[0m\u001b[0;34m\u001b[0m\u001b[0;34m\u001b[0m\u001b[0m\n\u001b[1;32m     18\u001b[0m \u001b[0;31m#is #isnot-to check value is stored in same locatn or not\u001b[0m\u001b[0;34m\u001b[0m\u001b[0;34m\u001b[0m\u001b[0;34m\u001b[0m\u001b[0m\n",
            "\u001b[0;31mTypeError\u001b[0m: unsupported operand type(s) for ** or pow(): 'list' and 'int'"
          ]
        }
      ]
    },
    {
      "cell_type": "code",
      "metadata": {
        "id": "nExl8MWh5y6j",
        "colab_type": "code",
        "colab": {
          "base_uri": "https://localhost:8080/",
          "height": 187
        },
        "outputId": "c1398e00-ff96-4315-9147-b2fccdfce2df"
      },
      "source": [
        "\n",
        "num=[]\n",
        "for i in range(1,11):\n",
        "  num.append(i)\n",
        "  print(num)\n"
      ],
      "execution_count": 31,
      "outputs": [
        {
          "output_type": "stream",
          "text": [
            "[1]\n",
            "[1, 2]\n",
            "[1, 2, 3]\n",
            "[1, 2, 3, 4]\n",
            "[1, 2, 3, 4, 5]\n",
            "[1, 2, 3, 4, 5, 6]\n",
            "[1, 2, 3, 4, 5, 6, 7]\n",
            "[1, 2, 3, 4, 5, 6, 7, 8]\n",
            "[1, 2, 3, 4, 5, 6, 7, 8, 9]\n",
            "[1, 2, 3, 4, 5, 6, 7, 8, 9, 10]\n"
          ],
          "name": "stdout"
        }
      ]
    },
    {
      "cell_type": "code",
      "metadata": {
        "id": "aOYiEK2y6X0_",
        "colab_type": "code",
        "colab": {
          "base_uri": "https://localhost:8080/",
          "height": 102
        },
        "outputId": "230f9a40-14dc-4204-e25c-fa28f19f1f86"
      },
      "source": [
        "odd=[]\n",
        "for i in range(1,10,2):\n",
        "  odd.append(i)\n",
        "  print(odd)\n"
      ],
      "execution_count": 33,
      "outputs": [
        {
          "output_type": "stream",
          "text": [
            "[1]\n",
            "[1, 3]\n",
            "[1, 3, 5]\n",
            "[1, 3, 5, 7]\n",
            "[1, 3, 5, 7, 9]\n"
          ],
          "name": "stdout"
        }
      ]
    },
    {
      "cell_type": "code",
      "metadata": {
        "id": "aEQtNynV7G0t",
        "colab_type": "code",
        "colab": {
          "base_uri": "https://localhost:8080/",
          "height": 102
        },
        "outputId": "2a7678e9-4f47-41cc-dec4-5a44c0b45f17"
      },
      "source": [
        "a=[1,2,3,4,5]\n",
        "for i in a:\n",
        "  cube=pow(i,3)\n",
        "  print(cube)"
      ],
      "execution_count": 34,
      "outputs": [
        {
          "output_type": "stream",
          "text": [
            "1\n",
            "8\n",
            "27\n",
            "64\n",
            "125\n"
          ],
          "name": "stdout"
        }
      ]
    },
    {
      "cell_type": "code",
      "metadata": {
        "id": "PRD5f1Mk7qk0",
        "colab_type": "code",
        "colab": {
          "base_uri": "https://localhost:8080/",
          "height": 102
        },
        "outputId": "c3db003d-4bfd-4705-9c45-9d0b932b89a5"
      },
      "source": [
        "cube=[]\n",
        "for i in range(1,6):\n",
        "  cube.append(i*i*i)\n",
        "  print(cube)"
      ],
      "execution_count": 36,
      "outputs": [
        {
          "output_type": "stream",
          "text": [
            "[1]\n",
            "[1, 8]\n",
            "[1, 8, 27]\n",
            "[1, 8, 27, 64]\n",
            "[1, 8, 27, 64, 125]\n"
          ],
          "name": "stdout"
        }
      ]
    },
    {
      "cell_type": "code",
      "metadata": {
        "id": "hI89BdvJ8JAb",
        "colab_type": "code",
        "colab": {
          "base_uri": "https://localhost:8080/",
          "height": 34
        },
        "outputId": "a0a07705-44a7-487c-9224-d88d5d5cb262"
      },
      "source": [
        "list1 = [i for i in range(1,11)]\n",
        "list1"
      ],
      "execution_count": 44,
      "outputs": [
        {
          "output_type": "execute_result",
          "data": {
            "text/plain": [
              "[1, 2, 3, 4, 5, 6, 7, 8, 9, 10]"
            ]
          },
          "metadata": {
            "tags": []
          },
          "execution_count": 44
        }
      ]
    },
    {
      "cell_type": "code",
      "metadata": {
        "id": "W7o5p0Zl84Nh",
        "colab_type": "code",
        "colab": {
          "base_uri": "https://localhost:8080/",
          "height": 34
        },
        "outputId": "e8a21ed0-332a-4195-80c9-f705704c4efc"
      },
      "source": [
        "odd =[i for i in range(1,11) if i%2!=0]\n",
        "odd\n"
      ],
      "execution_count": 45,
      "outputs": [
        {
          "output_type": "execute_result",
          "data": {
            "text/plain": [
              "[1, 3, 5, 7, 9]"
            ]
          },
          "metadata": {
            "tags": []
          },
          "execution_count": 45
        }
      ]
    },
    {
      "cell_type": "code",
      "metadata": {
        "id": "Lt6yrmaV-z74",
        "colab_type": "code",
        "colab": {
          "base_uri": "https://localhost:8080/",
          "height": 34
        },
        "outputId": "075d00ce-aa8a-4f3d-d807-259047fd428c"
      },
      "source": [
        "list1=[i*i if i%2==0 else i*i*i for i in range(1,11)]\n",
        "list1"
      ],
      "execution_count": 46,
      "outputs": [
        {
          "output_type": "execute_result",
          "data": {
            "text/plain": [
              "[1, 4, 27, 16, 125, 36, 343, 64, 729, 100]"
            ]
          },
          "metadata": {
            "tags": []
          },
          "execution_count": 46
        }
      ]
    },
    {
      "cell_type": "code",
      "metadata": {
        "id": "f3Z35PUN_IAr",
        "colab_type": "code",
        "colab": {
          "base_uri": "https://localhost:8080/",
          "height": 187
        },
        "outputId": "7bfcc9cb-101e-4989-8d11-83a2fbdfe730"
      },
      "source": [
        "list1=[f\"even={i}\"if i%2==0 else f\"odd={i}\" for i in range(1,11)]\n",
        "list1"
      ],
      "execution_count": 47,
      "outputs": [
        {
          "output_type": "execute_result",
          "data": {
            "text/plain": [
              "['odd=1',\n",
              " 'even=2',\n",
              " 'odd=3',\n",
              " 'even=4',\n",
              " 'odd=5',\n",
              " 'even=6',\n",
              " 'odd=7',\n",
              " 'even=8',\n",
              " 'odd=9',\n",
              " 'even=10']"
            ]
          },
          "metadata": {
            "tags": []
          },
          "execution_count": 47
        }
      ]
    },
    {
      "cell_type": "code",
      "metadata": {
        "id": "M8GTH_r4_wFo",
        "colab_type": "code",
        "colab": {
          "base_uri": "https://localhost:8080/",
          "height": 34
        },
        "outputId": "fd7daa25-3c59-48fb-d439-a75ba3dba260"
      },
      "source": [
        "#tuples\n",
        "t1=(1,2,3,4,5)\n",
        "type(t1)\n",
        "t3=tuple(marks)\n",
        "t3\n",
        "\n"
      ],
      "execution_count": 51,
      "outputs": [
        {
          "output_type": "execute_result",
          "data": {
            "text/plain": [
              "(12, 13)"
            ]
          },
          "metadata": {
            "tags": []
          },
          "execution_count": 51
        }
      ]
    },
    {
      "cell_type": "code",
      "metadata": {
        "id": "mAxE02F1Bv9x",
        "colab_type": "code",
        "colab": {
          "base_uri": "https://localhost:8080/",
          "height": 34
        },
        "outputId": "529e9901-902d-44cb-8600-ad5a3315999f"
      },
      "source": [
        "list2=list(t1)\n",
        "list2#we can convert tupe to list and vic versa"
      ],
      "execution_count": 52,
      "outputs": [
        {
          "output_type": "execute_result",
          "data": {
            "text/plain": [
              "[1, 2, 3, 4, 5]"
            ]
          },
          "metadata": {
            "tags": []
          },
          "execution_count": 52
        }
      ]
    },
    {
      "cell_type": "code",
      "metadata": {
        "id": "jC8Bh4nMDXrs",
        "colab_type": "code",
        "colab": {}
      },
      "source": [
        ""
      ],
      "execution_count": null,
      "outputs": []
    },
    {
      "cell_type": "markdown",
      "metadata": {
        "colab_type": "text",
        "id": "aaWHlvCZDvJB"
      },
      "source": [
        "#dictionary\n",
        "marks = {\"history\":45,\"geography\":50,\"hindi\":70}\n",
        "print(marks)\n",
        "print(marks[\"history\"])"
      ]
    },
    {
      "cell_type": "code",
      "metadata": {
        "id": "yqghrJ8jD6Bk",
        "colab_type": "code",
        "colab": {
          "base_uri": "https://localhost:8080/",
          "height": 34
        },
        "outputId": "0e9aeb68-c719-4144-e22c-cbd805ddd785"
      },
      "source": [
        "set1={1,2,2,2,3,33}\n",
        "set1\n"
      ],
      "execution_count": 55,
      "outputs": [
        {
          "output_type": "execute_result",
          "data": {
            "text/plain": [
              "{1, 2, 3, 33}"
            ]
          },
          "metadata": {
            "tags": []
          },
          "execution_count": 55
        }
      ]
    },
    {
      "cell_type": "code",
      "metadata": {
        "id": "6pwPT0wLFXFC",
        "colab_type": "code",
        "colab": {
          "base_uri": "https://localhost:8080/",
          "height": 51
        },
        "outputId": "1e26782c-8e76-4f7b-c417-fcffa9b9a8eb"
      },
      "source": [
        "a={1,2,3,4,5}\n",
        "b={3,5,6,7,8}\n",
        "union =a|b\n",
        "intersection = a&b\n",
        "print(union)\n",
        "print(intersection)\n"
      ],
      "execution_count": 57,
      "outputs": [
        {
          "output_type": "stream",
          "text": [
            "{1, 2, 3, 4, 5, 6, 7, 8}\n",
            "{3, 5}\n"
          ],
          "name": "stdout"
        }
      ]
    }
  ]
}